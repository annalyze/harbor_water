{
 "cells": [
  {
   "cell_type": "markdown",
   "metadata": {},
   "source": [
    "Scraping weather data from weatherunderground one year at a time"
   ]
  },
  {
   "cell_type": "code",
   "execution_count": 2,
   "metadata": {
    "collapsed": true
   },
   "outputs": [],
   "source": [
    "import time\n",
    "import urllib2\n",
    "import json\n",
    "import pandas as pd\n",
    "import datetime"
   ]
  },
  {
   "cell_type": "code",
   "execution_count": 41,
   "metadata": {},
   "outputs": [
    {
     "name": "stdout",
     "output_type": "stream",
     "text": [
      "365\n"
     ]
    },
    {
     "data": {
      "text/plain": [
       "[datetime.date(2002, 1, 1),\n",
       " datetime.date(2002, 1, 2),\n",
       " datetime.date(2002, 1, 3),\n",
       " datetime.date(2002, 1, 4),\n",
       " datetime.date(2002, 1, 5),\n",
       " datetime.date(2002, 1, 6),\n",
       " datetime.date(2002, 1, 7),\n",
       " datetime.date(2002, 1, 8),\n",
       " datetime.date(2002, 1, 9),\n",
       " datetime.date(2002, 1, 10),\n",
       " datetime.date(2002, 1, 11),\n",
       " datetime.date(2002, 1, 12),\n",
       " datetime.date(2002, 1, 13),\n",
       " datetime.date(2002, 1, 14),\n",
       " datetime.date(2002, 1, 15),\n",
       " datetime.date(2002, 1, 16),\n",
       " datetime.date(2002, 1, 17),\n",
       " datetime.date(2002, 1, 18),\n",
       " datetime.date(2002, 1, 19),\n",
       " datetime.date(2002, 1, 20),\n",
       " datetime.date(2002, 1, 21),\n",
       " datetime.date(2002, 1, 22),\n",
       " datetime.date(2002, 1, 23),\n",
       " datetime.date(2002, 1, 24),\n",
       " datetime.date(2002, 1, 25),\n",
       " datetime.date(2002, 1, 26),\n",
       " datetime.date(2002, 1, 27),\n",
       " datetime.date(2002, 1, 28),\n",
       " datetime.date(2002, 1, 29),\n",
       " datetime.date(2002, 1, 30),\n",
       " datetime.date(2002, 1, 31),\n",
       " datetime.date(2002, 2, 1),\n",
       " datetime.date(2002, 2, 2),\n",
       " datetime.date(2002, 2, 3),\n",
       " datetime.date(2002, 2, 4),\n",
       " datetime.date(2002, 2, 5),\n",
       " datetime.date(2002, 2, 6),\n",
       " datetime.date(2002, 2, 7),\n",
       " datetime.date(2002, 2, 8),\n",
       " datetime.date(2002, 2, 9),\n",
       " datetime.date(2002, 2, 10),\n",
       " datetime.date(2002, 2, 11),\n",
       " datetime.date(2002, 2, 12),\n",
       " datetime.date(2002, 2, 13),\n",
       " datetime.date(2002, 2, 14),\n",
       " datetime.date(2002, 2, 15),\n",
       " datetime.date(2002, 2, 16),\n",
       " datetime.date(2002, 2, 17),\n",
       " datetime.date(2002, 2, 18),\n",
       " datetime.date(2002, 2, 19),\n",
       " datetime.date(2002, 2, 20),\n",
       " datetime.date(2002, 2, 21),\n",
       " datetime.date(2002, 2, 22),\n",
       " datetime.date(2002, 2, 23),\n",
       " datetime.date(2002, 2, 24),\n",
       " datetime.date(2002, 2, 25),\n",
       " datetime.date(2002, 2, 26),\n",
       " datetime.date(2002, 2, 27),\n",
       " datetime.date(2002, 2, 28),\n",
       " datetime.date(2002, 3, 1),\n",
       " datetime.date(2002, 3, 2),\n",
       " datetime.date(2002, 3, 3),\n",
       " datetime.date(2002, 3, 4),\n",
       " datetime.date(2002, 3, 5),\n",
       " datetime.date(2002, 3, 6),\n",
       " datetime.date(2002, 3, 7),\n",
       " datetime.date(2002, 3, 8),\n",
       " datetime.date(2002, 3, 9),\n",
       " datetime.date(2002, 3, 10),\n",
       " datetime.date(2002, 3, 11),\n",
       " datetime.date(2002, 3, 12),\n",
       " datetime.date(2002, 3, 13),\n",
       " datetime.date(2002, 3, 14),\n",
       " datetime.date(2002, 3, 15),\n",
       " datetime.date(2002, 3, 16),\n",
       " datetime.date(2002, 3, 17),\n",
       " datetime.date(2002, 3, 18),\n",
       " datetime.date(2002, 3, 19),\n",
       " datetime.date(2002, 3, 20),\n",
       " datetime.date(2002, 3, 21),\n",
       " datetime.date(2002, 3, 22),\n",
       " datetime.date(2002, 3, 23),\n",
       " datetime.date(2002, 3, 24),\n",
       " datetime.date(2002, 3, 25),\n",
       " datetime.date(2002, 3, 26),\n",
       " datetime.date(2002, 3, 27),\n",
       " datetime.date(2002, 3, 28),\n",
       " datetime.date(2002, 3, 29),\n",
       " datetime.date(2002, 3, 30),\n",
       " datetime.date(2002, 3, 31),\n",
       " datetime.date(2002, 4, 1),\n",
       " datetime.date(2002, 4, 2),\n",
       " datetime.date(2002, 4, 3),\n",
       " datetime.date(2002, 4, 4),\n",
       " datetime.date(2002, 4, 5),\n",
       " datetime.date(2002, 4, 6),\n",
       " datetime.date(2002, 4, 7),\n",
       " datetime.date(2002, 4, 8),\n",
       " datetime.date(2002, 4, 9),\n",
       " datetime.date(2002, 4, 10),\n",
       " datetime.date(2002, 4, 11),\n",
       " datetime.date(2002, 4, 12),\n",
       " datetime.date(2002, 4, 13),\n",
       " datetime.date(2002, 4, 14),\n",
       " datetime.date(2002, 4, 15),\n",
       " datetime.date(2002, 4, 16),\n",
       " datetime.date(2002, 4, 17),\n",
       " datetime.date(2002, 4, 18),\n",
       " datetime.date(2002, 4, 19),\n",
       " datetime.date(2002, 4, 20),\n",
       " datetime.date(2002, 4, 21),\n",
       " datetime.date(2002, 4, 22),\n",
       " datetime.date(2002, 4, 23),\n",
       " datetime.date(2002, 4, 24),\n",
       " datetime.date(2002, 4, 25),\n",
       " datetime.date(2002, 4, 26),\n",
       " datetime.date(2002, 4, 27),\n",
       " datetime.date(2002, 4, 28),\n",
       " datetime.date(2002, 4, 29),\n",
       " datetime.date(2002, 4, 30),\n",
       " datetime.date(2002, 5, 1),\n",
       " datetime.date(2002, 5, 2),\n",
       " datetime.date(2002, 5, 3),\n",
       " datetime.date(2002, 5, 4),\n",
       " datetime.date(2002, 5, 5),\n",
       " datetime.date(2002, 5, 6),\n",
       " datetime.date(2002, 5, 7),\n",
       " datetime.date(2002, 5, 8),\n",
       " datetime.date(2002, 5, 9),\n",
       " datetime.date(2002, 5, 10),\n",
       " datetime.date(2002, 5, 11),\n",
       " datetime.date(2002, 5, 12),\n",
       " datetime.date(2002, 5, 13),\n",
       " datetime.date(2002, 5, 14),\n",
       " datetime.date(2002, 5, 15),\n",
       " datetime.date(2002, 5, 16),\n",
       " datetime.date(2002, 5, 17),\n",
       " datetime.date(2002, 5, 18),\n",
       " datetime.date(2002, 5, 19),\n",
       " datetime.date(2002, 5, 20),\n",
       " datetime.date(2002, 5, 21),\n",
       " datetime.date(2002, 5, 22),\n",
       " datetime.date(2002, 5, 23),\n",
       " datetime.date(2002, 5, 24),\n",
       " datetime.date(2002, 5, 25),\n",
       " datetime.date(2002, 5, 26),\n",
       " datetime.date(2002, 5, 27),\n",
       " datetime.date(2002, 5, 28),\n",
       " datetime.date(2002, 5, 29),\n",
       " datetime.date(2002, 5, 30),\n",
       " datetime.date(2002, 5, 31),\n",
       " datetime.date(2002, 6, 1),\n",
       " datetime.date(2002, 6, 2),\n",
       " datetime.date(2002, 6, 3),\n",
       " datetime.date(2002, 6, 4),\n",
       " datetime.date(2002, 6, 5),\n",
       " datetime.date(2002, 6, 6),\n",
       " datetime.date(2002, 6, 7),\n",
       " datetime.date(2002, 6, 8),\n",
       " datetime.date(2002, 6, 9),\n",
       " datetime.date(2002, 6, 10),\n",
       " datetime.date(2002, 6, 11),\n",
       " datetime.date(2002, 6, 12),\n",
       " datetime.date(2002, 6, 13),\n",
       " datetime.date(2002, 6, 14),\n",
       " datetime.date(2002, 6, 15),\n",
       " datetime.date(2002, 6, 16),\n",
       " datetime.date(2002, 6, 17),\n",
       " datetime.date(2002, 6, 18),\n",
       " datetime.date(2002, 6, 19),\n",
       " datetime.date(2002, 6, 20),\n",
       " datetime.date(2002, 6, 21),\n",
       " datetime.date(2002, 6, 22),\n",
       " datetime.date(2002, 6, 23),\n",
       " datetime.date(2002, 6, 24),\n",
       " datetime.date(2002, 6, 25),\n",
       " datetime.date(2002, 6, 26),\n",
       " datetime.date(2002, 6, 27),\n",
       " datetime.date(2002, 6, 28),\n",
       " datetime.date(2002, 6, 29),\n",
       " datetime.date(2002, 6, 30),\n",
       " datetime.date(2002, 7, 1),\n",
       " datetime.date(2002, 7, 2),\n",
       " datetime.date(2002, 7, 3),\n",
       " datetime.date(2002, 7, 4),\n",
       " datetime.date(2002, 7, 5),\n",
       " datetime.date(2002, 7, 6),\n",
       " datetime.date(2002, 7, 7),\n",
       " datetime.date(2002, 7, 8),\n",
       " datetime.date(2002, 7, 9),\n",
       " datetime.date(2002, 7, 10),\n",
       " datetime.date(2002, 7, 11),\n",
       " datetime.date(2002, 7, 12),\n",
       " datetime.date(2002, 7, 13),\n",
       " datetime.date(2002, 7, 14),\n",
       " datetime.date(2002, 7, 15),\n",
       " datetime.date(2002, 7, 16),\n",
       " datetime.date(2002, 7, 17),\n",
       " datetime.date(2002, 7, 18),\n",
       " datetime.date(2002, 7, 19),\n",
       " datetime.date(2002, 7, 20),\n",
       " datetime.date(2002, 7, 21),\n",
       " datetime.date(2002, 7, 22),\n",
       " datetime.date(2002, 7, 23),\n",
       " datetime.date(2002, 7, 24),\n",
       " datetime.date(2002, 7, 25),\n",
       " datetime.date(2002, 7, 26),\n",
       " datetime.date(2002, 7, 27),\n",
       " datetime.date(2002, 7, 28),\n",
       " datetime.date(2002, 7, 29),\n",
       " datetime.date(2002, 7, 30),\n",
       " datetime.date(2002, 7, 31),\n",
       " datetime.date(2002, 8, 1),\n",
       " datetime.date(2002, 8, 2),\n",
       " datetime.date(2002, 8, 3),\n",
       " datetime.date(2002, 8, 4),\n",
       " datetime.date(2002, 8, 5),\n",
       " datetime.date(2002, 8, 6),\n",
       " datetime.date(2002, 8, 7),\n",
       " datetime.date(2002, 8, 8),\n",
       " datetime.date(2002, 8, 9),\n",
       " datetime.date(2002, 8, 10),\n",
       " datetime.date(2002, 8, 11),\n",
       " datetime.date(2002, 8, 12),\n",
       " datetime.date(2002, 8, 13),\n",
       " datetime.date(2002, 8, 14),\n",
       " datetime.date(2002, 8, 15),\n",
       " datetime.date(2002, 8, 16),\n",
       " datetime.date(2002, 8, 17),\n",
       " datetime.date(2002, 8, 18),\n",
       " datetime.date(2002, 8, 19),\n",
       " datetime.date(2002, 8, 20),\n",
       " datetime.date(2002, 8, 21),\n",
       " datetime.date(2002, 8, 22),\n",
       " datetime.date(2002, 8, 23),\n",
       " datetime.date(2002, 8, 24),\n",
       " datetime.date(2002, 8, 25),\n",
       " datetime.date(2002, 8, 26),\n",
       " datetime.date(2002, 8, 27),\n",
       " datetime.date(2002, 8, 28),\n",
       " datetime.date(2002, 8, 29),\n",
       " datetime.date(2002, 8, 30),\n",
       " datetime.date(2002, 8, 31),\n",
       " datetime.date(2002, 9, 1),\n",
       " datetime.date(2002, 9, 2),\n",
       " datetime.date(2002, 9, 3),\n",
       " datetime.date(2002, 9, 4),\n",
       " datetime.date(2002, 9, 5),\n",
       " datetime.date(2002, 9, 6),\n",
       " datetime.date(2002, 9, 7),\n",
       " datetime.date(2002, 9, 8),\n",
       " datetime.date(2002, 9, 9),\n",
       " datetime.date(2002, 9, 10),\n",
       " datetime.date(2002, 9, 11),\n",
       " datetime.date(2002, 9, 12),\n",
       " datetime.date(2002, 9, 13),\n",
       " datetime.date(2002, 9, 14),\n",
       " datetime.date(2002, 9, 15),\n",
       " datetime.date(2002, 9, 16),\n",
       " datetime.date(2002, 9, 17),\n",
       " datetime.date(2002, 9, 18),\n",
       " datetime.date(2002, 9, 19),\n",
       " datetime.date(2002, 9, 20),\n",
       " datetime.date(2002, 9, 21),\n",
       " datetime.date(2002, 9, 22),\n",
       " datetime.date(2002, 9, 23),\n",
       " datetime.date(2002, 9, 24),\n",
       " datetime.date(2002, 9, 25),\n",
       " datetime.date(2002, 9, 26),\n",
       " datetime.date(2002, 9, 27),\n",
       " datetime.date(2002, 9, 28),\n",
       " datetime.date(2002, 9, 29),\n",
       " datetime.date(2002, 9, 30),\n",
       " datetime.date(2002, 10, 1),\n",
       " datetime.date(2002, 10, 2),\n",
       " datetime.date(2002, 10, 3),\n",
       " datetime.date(2002, 10, 4),\n",
       " datetime.date(2002, 10, 5),\n",
       " datetime.date(2002, 10, 6),\n",
       " datetime.date(2002, 10, 7),\n",
       " datetime.date(2002, 10, 8),\n",
       " datetime.date(2002, 10, 9),\n",
       " datetime.date(2002, 10, 10),\n",
       " datetime.date(2002, 10, 11),\n",
       " datetime.date(2002, 10, 12),\n",
       " datetime.date(2002, 10, 13),\n",
       " datetime.date(2002, 10, 14),\n",
       " datetime.date(2002, 10, 15),\n",
       " datetime.date(2002, 10, 16),\n",
       " datetime.date(2002, 10, 17),\n",
       " datetime.date(2002, 10, 18),\n",
       " datetime.date(2002, 10, 19),\n",
       " datetime.date(2002, 10, 20),\n",
       " datetime.date(2002, 10, 21),\n",
       " datetime.date(2002, 10, 22),\n",
       " datetime.date(2002, 10, 23),\n",
       " datetime.date(2002, 10, 24),\n",
       " datetime.date(2002, 10, 25),\n",
       " datetime.date(2002, 10, 26),\n",
       " datetime.date(2002, 10, 27),\n",
       " datetime.date(2002, 10, 28),\n",
       " datetime.date(2002, 10, 29),\n",
       " datetime.date(2002, 10, 30),\n",
       " datetime.date(2002, 10, 31),\n",
       " datetime.date(2002, 11, 1),\n",
       " datetime.date(2002, 11, 2),\n",
       " datetime.date(2002, 11, 3),\n",
       " datetime.date(2002, 11, 4),\n",
       " datetime.date(2002, 11, 5),\n",
       " datetime.date(2002, 11, 6),\n",
       " datetime.date(2002, 11, 7),\n",
       " datetime.date(2002, 11, 8),\n",
       " datetime.date(2002, 11, 9),\n",
       " datetime.date(2002, 11, 10),\n",
       " datetime.date(2002, 11, 11),\n",
       " datetime.date(2002, 11, 12),\n",
       " datetime.date(2002, 11, 13),\n",
       " datetime.date(2002, 11, 14),\n",
       " datetime.date(2002, 11, 15),\n",
       " datetime.date(2002, 11, 16),\n",
       " datetime.date(2002, 11, 17),\n",
       " datetime.date(2002, 11, 18),\n",
       " datetime.date(2002, 11, 19),\n",
       " datetime.date(2002, 11, 20),\n",
       " datetime.date(2002, 11, 21),\n",
       " datetime.date(2002, 11, 22),\n",
       " datetime.date(2002, 11, 23),\n",
       " datetime.date(2002, 11, 24),\n",
       " datetime.date(2002, 11, 25),\n",
       " datetime.date(2002, 11, 26),\n",
       " datetime.date(2002, 11, 27),\n",
       " datetime.date(2002, 11, 28),\n",
       " datetime.date(2002, 11, 29),\n",
       " datetime.date(2002, 11, 30),\n",
       " datetime.date(2002, 12, 1),\n",
       " datetime.date(2002, 12, 2),\n",
       " datetime.date(2002, 12, 3),\n",
       " datetime.date(2002, 12, 4),\n",
       " datetime.date(2002, 12, 5),\n",
       " datetime.date(2002, 12, 6),\n",
       " datetime.date(2002, 12, 7),\n",
       " datetime.date(2002, 12, 8),\n",
       " datetime.date(2002, 12, 9),\n",
       " datetime.date(2002, 12, 10),\n",
       " datetime.date(2002, 12, 11),\n",
       " datetime.date(2002, 12, 12),\n",
       " datetime.date(2002, 12, 13),\n",
       " datetime.date(2002, 12, 14),\n",
       " datetime.date(2002, 12, 15),\n",
       " datetime.date(2002, 12, 16),\n",
       " datetime.date(2002, 12, 17),\n",
       " datetime.date(2002, 12, 18),\n",
       " datetime.date(2002, 12, 19),\n",
       " datetime.date(2002, 12, 20),\n",
       " datetime.date(2002, 12, 21),\n",
       " datetime.date(2002, 12, 22),\n",
       " datetime.date(2002, 12, 23),\n",
       " datetime.date(2002, 12, 24),\n",
       " datetime.date(2002, 12, 25),\n",
       " datetime.date(2002, 12, 26),\n",
       " datetime.date(2002, 12, 27),\n",
       " datetime.date(2002, 12, 28),\n",
       " datetime.date(2002, 12, 29),\n",
       " datetime.date(2002, 12, 30),\n",
       " datetime.date(2002, 12, 31)]"
      ]
     },
     "execution_count": 41,
     "metadata": {},
     "output_type": "execute_result"
    }
   ],
   "source": [
    "#2002 needed\n",
    "start_date = datetime.date(2002, 1, 1)\n",
    "end_date   = datetime.date(2002, 12, 31)\n",
    "\n",
    "dates_2002 = [ start_date + datetime.timedelta(n) for n in range(int ((end_date - start_date).days)+1)]\n",
    "print(len(dates_2002))\n",
    "dates_2002"
   ]
  },
  {
   "cell_type": "code",
   "execution_count": 42,
   "metadata": {
    "collapsed": true
   },
   "outputs": [],
   "source": [
    "#http://api.wunderground.com/api/b3f2f6612b2f2a35/history_YYYYMMDD/q/CA/San_Francisco.json"
   ]
  },
  {
   "cell_type": "code",
   "execution_count": 43,
   "metadata": {
    "collapsed": true
   },
   "outputs": [],
   "source": [
    "def get_weather_row(json_stuff):\n",
    "    precip_in = parsed_json['history']['dailysummary'][0]['precipi']\n",
    "    precip_m = parsed_json['history']['dailysummary'][0]['precipm']\n",
    "    rain = parsed_json['history']['dailysummary'][0]['rain']\n",
    "    snow = parsed_json['history']['dailysummary'][0]['snow']\n",
    "    snow_in = parsed_json['history']['dailysummary'][0]['snowfalli']\n",
    "    snow_m = parsed_json['history']['dailysummary'][0]['snowfallm']\n",
    "    month = parsed_json['history']['dailysummary'][0]['date']['mon']\n",
    "    day = parsed_json['history']['dailysummary'][0]['date']['mday']\n",
    "    year = parsed_json['history']['dailysummary'][0]['date']['year']\n",
    "    date = parsed_json['history']['dailysummary'][0]['date']['pretty']\n",
    "    record = (month, day, year, date,rain, precip_in,precip_m, snow, snow_in,snow_m)\n",
    "    return record"
   ]
  },
  {
   "cell_type": "code",
   "execution_count": 44,
   "metadata": {
    "collapsed": true
   },
   "outputs": [],
   "source": [
    "precip_list = []\n"
   ]
  },
  {
   "cell_type": "code",
   "execution_count": 45,
   "metadata": {},
   "outputs": [
    {
     "name": "stdout",
     "output_type": "stream",
     "text": [
      "2002-01-01\n",
      "2002-01-02\n",
      "2002-01-03\n",
      "2002-01-04\n",
      "2002-01-05\n",
      "2002-01-06\n",
      "2002-01-07\n",
      "2002-01-08\n",
      "2002-01-09\n",
      "2002-01-10\n",
      "2002-01-11\n",
      "2002-01-12\n",
      "2002-01-13\n",
      "2002-01-14\n",
      "2002-01-15\n",
      "2002-01-16\n",
      "2002-01-17\n",
      "2002-01-18\n",
      "2002-01-19\n",
      "2002-01-20\n",
      "2002-01-21\n",
      "2002-01-22\n",
      "2002-01-23\n",
      "2002-01-24\n",
      "2002-01-25\n",
      "2002-01-26\n",
      "2002-01-27\n",
      "2002-01-28\n",
      "2002-01-29\n",
      "2002-01-30\n",
      "2002-01-31\n",
      "2002-02-01\n",
      "2002-02-02\n",
      "2002-02-03\n",
      "2002-02-04\n",
      "2002-02-05\n",
      "2002-02-06\n",
      "2002-02-07\n",
      "2002-02-08\n",
      "2002-02-09\n",
      "2002-02-10\n",
      "2002-02-11\n",
      "2002-02-12\n",
      "2002-02-13\n",
      "2002-02-14\n",
      "2002-02-15\n",
      "2002-02-16\n",
      "2002-02-17\n",
      "2002-02-18\n",
      "2002-02-19\n",
      "2002-02-20\n",
      "2002-02-21\n",
      "2002-02-22\n",
      "2002-02-23\n",
      "2002-02-24\n",
      "2002-02-25\n",
      "2002-02-26\n",
      "2002-02-27\n",
      "2002-02-28\n",
      "2002-03-01\n",
      "2002-03-02\n",
      "2002-03-03\n",
      "2002-03-04\n",
      "2002-03-05\n",
      "2002-03-06\n",
      "2002-03-07\n",
      "2002-03-08\n",
      "2002-03-09\n",
      "2002-03-10\n",
      "2002-03-11\n",
      "2002-03-12\n",
      "2002-03-13\n",
      "2002-03-14\n",
      "2002-03-15\n",
      "2002-03-16\n",
      "2002-03-17\n",
      "2002-03-18\n",
      "2002-03-19\n",
      "2002-03-20\n",
      "2002-03-21\n",
      "2002-03-22\n",
      "2002-03-23\n",
      "2002-03-24\n",
      "2002-03-25\n",
      "2002-03-26\n",
      "2002-03-27\n",
      "2002-03-28\n",
      "2002-03-29\n",
      "2002-03-30\n",
      "2002-03-31\n",
      "2002-04-01\n",
      "2002-04-02\n",
      "2002-04-03\n",
      "2002-04-04\n",
      "2002-04-05\n",
      "2002-04-06\n",
      "2002-04-07\n",
      "2002-04-08\n",
      "2002-04-09\n",
      "2002-04-10\n",
      "2002-04-11\n",
      "2002-04-12\n",
      "2002-04-13\n",
      "2002-04-14\n",
      "2002-04-15\n",
      "2002-04-16\n",
      "2002-04-17\n",
      "2002-04-18\n",
      "2002-04-19\n",
      "2002-04-20\n",
      "2002-04-21\n",
      "2002-04-22\n",
      "2002-04-23\n",
      "2002-04-24\n",
      "2002-04-25\n",
      "2002-04-26\n",
      "2002-04-27\n",
      "2002-04-28\n",
      "2002-04-29\n",
      "2002-04-30\n",
      "2002-05-01\n",
      "2002-05-02\n",
      "2002-05-03\n",
      "2002-05-04\n",
      "2002-05-05\n",
      "2002-05-06\n",
      "2002-05-07\n",
      "2002-05-08\n",
      "2002-05-09\n",
      "2002-05-10\n",
      "2002-05-11\n",
      "2002-05-12\n",
      "2002-05-13\n",
      "2002-05-14\n",
      "2002-05-15\n",
      "2002-05-16\n",
      "2002-05-17\n",
      "2002-05-18\n",
      "2002-05-19\n",
      "2002-05-20\n",
      "2002-05-21\n",
      "2002-05-22\n",
      "2002-05-23\n",
      "2002-05-24\n",
      "2002-05-25\n",
      "2002-05-26\n",
      "2002-05-27\n",
      "2002-05-28\n",
      "2002-05-29\n",
      "2002-05-30\n",
      "2002-05-31\n",
      "2002-06-01\n",
      "2002-06-02\n",
      "2002-06-03\n",
      "2002-06-04\n",
      "2002-06-05\n",
      "2002-06-06\n",
      "2002-06-07\n",
      "2002-06-08\n",
      "2002-06-09\n",
      "2002-06-10\n",
      "2002-06-11\n",
      "2002-06-12\n",
      "2002-06-13\n",
      "2002-06-14\n",
      "2002-06-15\n",
      "2002-06-16\n",
      "2002-06-17\n",
      "2002-06-18\n",
      "2002-06-19\n",
      "2002-06-20\n",
      "2002-06-21\n",
      "2002-06-22\n",
      "2002-06-23\n",
      "2002-06-24\n",
      "2002-06-25\n",
      "2002-06-26\n",
      "2002-06-27\n",
      "2002-06-28\n",
      "2002-06-29\n",
      "2002-06-30\n",
      "2002-07-01\n",
      "2002-07-02\n",
      "2002-07-03\n",
      "2002-07-04\n",
      "2002-07-05\n",
      "2002-07-06\n",
      "2002-07-07\n",
      "2002-07-08\n",
      "2002-07-09\n",
      "2002-07-10\n",
      "2002-07-11\n",
      "2002-07-12\n",
      "2002-07-13\n",
      "2002-07-14\n",
      "2002-07-15\n",
      "2002-07-16\n",
      "2002-07-17\n",
      "2002-07-18\n",
      "2002-07-19\n",
      "2002-07-20\n",
      "2002-07-21\n",
      "2002-07-22\n",
      "2002-07-23\n",
      "2002-07-24\n",
      "2002-07-25\n",
      "2002-07-26\n",
      "2002-07-27\n",
      "2002-07-28\n",
      "2002-07-29\n",
      "2002-07-30\n",
      "2002-07-31\n",
      "2002-08-01\n",
      "2002-08-02\n",
      "2002-08-03\n",
      "2002-08-04\n",
      "2002-08-05\n",
      "2002-08-06\n",
      "2002-08-07\n",
      "2002-08-08\n",
      "2002-08-09\n",
      "2002-08-10\n",
      "2002-08-11\n",
      "2002-08-12\n",
      "2002-08-13\n",
      "2002-08-14\n",
      "2002-08-15\n",
      "2002-08-16\n",
      "2002-08-17\n",
      "2002-08-18\n",
      "2002-08-19\n",
      "2002-08-20\n",
      "2002-08-21\n",
      "2002-08-22\n",
      "2002-08-23\n",
      "2002-08-24\n",
      "2002-08-25\n",
      "2002-08-26\n",
      "2002-08-27\n",
      "2002-08-28\n",
      "2002-08-29\n",
      "2002-08-30\n",
      "2002-08-31\n",
      "2002-09-01\n",
      "2002-09-02\n",
      "2002-09-03\n",
      "2002-09-04\n",
      "2002-09-05\n",
      "2002-09-06\n",
      "2002-09-07\n",
      "2002-09-08\n",
      "2002-09-09\n",
      "2002-09-10\n",
      "2002-09-11\n",
      "2002-09-12\n",
      "2002-09-13\n",
      "2002-09-14\n",
      "2002-09-15\n",
      "2002-09-16\n",
      "2002-09-17\n",
      "2002-09-18\n",
      "2002-09-19\n",
      "2002-09-20\n",
      "2002-09-21\n",
      "2002-09-22\n",
      "2002-09-23\n",
      "2002-09-24\n",
      "2002-09-25\n",
      "2002-09-26\n",
      "2002-09-27\n",
      "2002-09-28\n",
      "2002-09-29\n",
      "2002-09-30\n",
      "2002-10-01\n",
      "2002-10-02\n",
      "2002-10-03\n",
      "2002-10-04\n",
      "2002-10-05\n",
      "2002-10-06\n",
      "2002-10-07\n",
      "2002-10-08\n",
      "2002-10-09\n",
      "2002-10-10\n",
      "2002-10-11\n",
      "2002-10-12\n",
      "2002-10-13\n",
      "2002-10-14\n",
      "2002-10-15\n",
      "2002-10-16\n",
      "2002-10-17\n",
      "2002-10-18\n",
      "2002-10-19\n",
      "2002-10-20\n",
      "2002-10-21\n",
      "2002-10-22\n",
      "2002-10-23\n",
      "2002-10-24\n",
      "2002-10-25\n",
      "2002-10-26\n",
      "2002-10-27\n",
      "2002-10-28\n",
      "2002-10-29\n",
      "2002-10-30\n",
      "2002-10-31\n",
      "2002-11-01\n",
      "2002-11-02\n",
      "2002-11-03\n",
      "2002-11-04\n",
      "2002-11-05\n",
      "2002-11-06\n",
      "2002-11-07\n",
      "2002-11-08\n",
      "2002-11-09\n",
      "2002-11-10\n",
      "2002-11-11\n",
      "2002-11-12\n",
      "2002-11-13\n",
      "2002-11-14\n",
      "2002-11-15\n",
      "2002-11-16\n",
      "2002-11-17\n",
      "2002-11-18\n",
      "2002-11-19\n",
      "2002-11-20\n",
      "2002-11-21\n",
      "2002-11-22\n",
      "2002-11-23\n",
      "2002-11-24\n",
      "2002-11-25\n",
      "2002-11-26\n",
      "2002-11-27\n",
      "2002-11-28\n",
      "2002-11-29\n",
      "2002-11-30\n",
      "2002-12-01\n",
      "2002-12-02\n",
      "2002-12-03\n",
      "2002-12-04\n",
      "2002-12-05\n",
      "2002-12-06\n",
      "2002-12-07\n",
      "2002-12-08\n",
      "2002-12-09\n",
      "2002-12-10\n",
      "2002-12-11\n",
      "2002-12-12\n",
      "2002-12-13\n",
      "2002-12-14\n",
      "2002-12-15\n",
      "2002-12-16\n",
      "2002-12-17\n",
      "2002-12-18\n",
      "2002-12-19\n",
      "2002-12-20\n",
      "2002-12-21\n",
      "2002-12-22\n",
      "2002-12-23\n",
      "2002-12-24\n",
      "2002-12-25\n",
      "2002-12-26\n",
      "2002-12-27\n",
      "2002-12-28\n",
      "2002-12-29\n",
      "2002-12-30\n",
      "2002-12-31\n"
     ]
    }
   ],
   "source": [
    "#YYYYMMDD\n",
    "for date in dates_2002:\n",
    "    url = 'http://api.wunderground.com/api/b3f2f6612b2f2a35/history_' + '{:04d}'.format(date.year) + '{:02d}'.format(date.month) + '{:02d}'.format(date.day)+'/q/NY/New_York.json'\n",
    "    print date\n",
    "    try:\n",
    "        f = urllib2.urlopen(url)\n",
    "        json_string = f.read()\n",
    "        parsed_json = json.loads(json_string)\n",
    "        f.close()\n",
    "        precip_list.append(get_weather_row(parsed_json))\n",
    "        time.sleep(10)\n",
    "    except:\n",
    "        pass\n"
   ]
  },
  {
   "cell_type": "markdown",
   "metadata": {},
   "source": [
    "# careful don't over write the dataframe. make a new one and merge"
   ]
  },
  {
   "cell_type": "code",
   "execution_count": 19,
   "metadata": {
    "collapsed": true
   },
   "outputs": [],
   "source": [
    "#http://api.wunderground.com/api/b3f2f6612b2f2a35/history_YYYYMMDD/q/CA/San_Francisco.json"
   ]
  },
  {
   "cell_type": "code",
   "execution_count": 46,
   "metadata": {},
   "outputs": [
    {
     "data": {
      "text/plain": [
       "365"
      ]
     },
     "execution_count": 46,
     "metadata": {},
     "output_type": "execute_result"
    }
   ],
   "source": [
    "len(precip_list)"
   ]
  },
  {
   "cell_type": "code",
   "execution_count": 31,
   "metadata": {},
   "outputs": [
    {
     "data": {
      "text/plain": [
       "[]"
      ]
     },
     "execution_count": 31,
     "metadata": {},
     "output_type": "execute_result"
    }
   ],
   "source": [
    "precip_list[302:303]"
   ]
  },
  {
   "cell_type": "code",
   "execution_count": null,
   "metadata": {
    "collapsed": true
   },
   "outputs": [],
   "source": [
    "#checking for any missing values"
   ]
  },
  {
   "cell_type": "code",
   "execution_count": 47,
   "metadata": {
    "collapsed": true
   },
   "outputs": [],
   "source": [
    "precip_new = pd.DataFrame(precip_list, columns = ['month', 'day', 'year', 'date','rain', 'precip_in','precip_m', 'snow', 'snow_in','snow_m'])"
   ]
  },
  {
   "cell_type": "code",
   "execution_count": 48,
   "metadata": {
    "collapsed": true
   },
   "outputs": [],
   "source": [
    "precip_new.to_csv('./precip_new.csv')"
   ]
  },
  {
   "cell_type": "code",
   "execution_count": 49,
   "metadata": {
    "collapsed": true
   },
   "outputs": [],
   "source": [
    "precip_new['new_col'] = precip_new['year'] + precip_new['month'] + precip_new['day']"
   ]
  },
  {
   "cell_type": "code",
   "execution_count": 50,
   "metadata": {
    "collapsed": true
   },
   "outputs": [],
   "source": [
    "precip_new['new_col'] = precip_new['new_col'].apply(lambda x: datetime.date(int(x[:4]), int(x[4:6]), int(x[6:8])))"
   ]
  },
  {
   "cell_type": "code",
   "execution_count": 51,
   "metadata": {},
   "outputs": [
    {
     "data": {
      "text/plain": [
       "set()"
      ]
     },
     "execution_count": 51,
     "metadata": {},
     "output_type": "execute_result"
    }
   ],
   "source": [
    "missing = set(precip_new['new_col'])^set(dates_2002)\n",
    "missing\n"
   ]
  },
  {
   "cell_type": "code",
   "execution_count": 52,
   "metadata": {},
   "outputs": [
    {
     "data": {
      "text/plain": [
       "365"
      ]
     },
     "execution_count": 52,
     "metadata": {},
     "output_type": "execute_result"
    }
   ],
   "source": [
    "len(set(precip_new['new_col']))"
   ]
  },
  {
   "cell_type": "code",
   "execution_count": 54,
   "metadata": {
    "scrolled": true
   },
   "outputs": [
    {
     "data": {
      "text/plain": [
       "365"
      ]
     },
     "execution_count": 54,
     "metadata": {},
     "output_type": "execute_result"
    }
   ],
   "source": [
    "len(set(dates_2002))"
   ]
  },
  {
   "cell_type": "code",
   "execution_count": null,
   "metadata": {
    "collapsed": true
   },
   "outputs": [],
   "source": [
    "#reading in complete set of weather data"
   ]
  },
  {
   "cell_type": "code",
   "execution_count": 55,
   "metadata": {
    "collapsed": true
   },
   "outputs": [],
   "source": [
    "precip = pd.read_csv('./precip.csv', index_col = 0)"
   ]
  },
  {
   "cell_type": "code",
   "execution_count": 56,
   "metadata": {
    "collapsed": true
   },
   "outputs": [],
   "source": [
    "#appending new set just pulled from weather undergound"
   ]
  },
  {
   "cell_type": "code",
   "execution_count": 57,
   "metadata": {
    "collapsed": true
   },
   "outputs": [],
   "source": [
    "precip = precip.append(precip_new)"
   ]
  },
  {
   "cell_type": "code",
   "execution_count": 58,
   "metadata": {},
   "outputs": [
    {
     "data": {
      "text/plain": [
       "(5478, 11)"
      ]
     },
     "execution_count": 58,
     "metadata": {},
     "output_type": "execute_result"
    }
   ],
   "source": [
    "precip.shape"
   ]
  },
  {
   "cell_type": "code",
   "execution_count": null,
   "metadata": {
    "collapsed": true
   },
   "outputs": [],
   "source": [
    "#writing updated set to file"
   ]
  },
  {
   "cell_type": "code",
   "execution_count": 59,
   "metadata": {
    "collapsed": true
   },
   "outputs": [],
   "source": [
    "precip.to_csv('./precip.csv')"
   ]
  },
  {
   "cell_type": "code",
   "execution_count": null,
   "metadata": {
    "collapsed": true
   },
   "outputs": [],
   "source": []
  },
  {
   "cell_type": "code",
   "execution_count": null,
   "metadata": {
    "collapsed": true
   },
   "outputs": [],
   "source": []
  },
  {
   "cell_type": "code",
   "execution_count": null,
   "metadata": {
    "collapsed": true
   },
   "outputs": [],
   "source": []
  },
  {
   "cell_type": "code",
   "execution_count": null,
   "metadata": {
    "collapsed": true
   },
   "outputs": [],
   "source": [
    "#finding missing values in 2016"
   ]
  },
  {
   "cell_type": "code",
   "execution_count": 23,
   "metadata": {},
   "outputs": [],
   "source": [
    "precip_2016 = precip[precip['year'] ==2016]"
   ]
  },
  {
   "cell_type": "code",
   "execution_count": 18,
   "metadata": {},
   "outputs": [],
   "source": [
    "precip['new_col'] = pd.to_datetime(precip['date'])"
   ]
  },
  {
   "cell_type": "code",
   "execution_count": 24,
   "metadata": {},
   "outputs": [],
   "source": [
    "dates_to_check = precip_2016['new_col'].apply(lambda x: x.date())"
   ]
  },
  {
   "cell_type": "code",
   "execution_count": 26,
   "metadata": {},
   "outputs": [],
   "source": [
    "missing_2016 = set(dates_to_check)^set(dates_2016)"
   ]
  },
  {
   "cell_type": "code",
   "execution_count": null,
   "metadata": {
    "collapsed": true
   },
   "outputs": [],
   "source": []
  }
 ],
 "metadata": {
  "kernelspec": {
   "display_name": "Python 2",
   "language": "python",
   "name": "python2"
  },
  "language_info": {
   "codemirror_mode": {
    "name": "ipython",
    "version": 2
   },
   "file_extension": ".py",
   "mimetype": "text/x-python",
   "name": "python",
   "nbconvert_exporter": "python",
   "pygments_lexer": "ipython2",
   "version": "2.7.13"
  }
 },
 "nbformat": 4,
 "nbformat_minor": 2
}
